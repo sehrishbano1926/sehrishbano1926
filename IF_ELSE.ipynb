{
  "nbformat": 4,
  "nbformat_minor": 0,
  "metadata": {
    "colab": {
      "provenance": [],
      "collapsed_sections": [
        "9Ez-JMcDgxji",
        "hlie8actiCF5",
        "28AdNkNAicsz",
        "5K3M-3EgjbNx"
      ],
      "authorship_tag": "ABX9TyNpQxB5TYMkx7nHfDRDMBE/",
      "include_colab_link": true
    },
    "kernelspec": {
      "name": "python3",
      "display_name": "Python 3"
    },
    "language_info": {
      "name": "python"
    }
  },
  "cells": [
    {
      "cell_type": "markdown",
      "metadata": {
        "id": "view-in-github",
        "colab_type": "text"
      },
      "source": [
        "<a href=\"https://colab.research.google.com/github/sehrishbano1926/sehrishbano1926/blob/main/IF_ELSE.ipynb\" target=\"_parent\"><img src=\"https://colab.research.google.com/assets/colab-badge.svg\" alt=\"Open In Colab\"/></a>"
      ]
    },
    {
      "cell_type": "markdown",
      "source": [
        "# **IF_AND_ELSE** STATEMENT\n",
        "\n",
        "# In python, there are four types of if..... else statements.\n",
        "\n",
        "\n",
        "*   if statement\n",
        "*   if...else statement\n",
        "\n",
        "*   if....elif....else statement\n",
        "*   nested if\n",
        "\n",
        "\n",
        "\n"
      ],
      "metadata": {
        "id": "QGxjoCIY_-E8"
      }
    },
    {
      "cell_type": "markdown",
      "source": [
        "# 1: if statement\n",
        "\n",
        "\n",
        "*   we take input, if we give an input it always return string as an output. thats why we have to mention of input, if the input is already string its ok.\n",
        "  \n",
        "\n"
      ],
      "metadata": {
        "id": "9Ez-JMcDgxji"
      }
    },
    {
      "cell_type": "code",
      "source": [
        "age=int(input(\"enter your age \"))\n",
        "if age<18:\n",
        "  print(\"ap school mai paadtay hongay \")\n",
        "print(\"best of luck! \")"
      ],
      "metadata": {
        "id": "Iossjphl_9EI",
        "colab": {
          "base_uri": "https://localhost:8080/"
        },
        "outputId": "34312f1e-ba3d-472e-f5e7-ffbc8f94efef"
      },
      "execution_count": null,
      "outputs": [
        {
          "output_type": "stream",
          "name": "stdout",
          "text": [
            "enter your age 20\n",
            "best of luck! \n"
          ]
        }
      ]
    },
    {
      "cell_type": "code",
      "source": [
        "salary=float(input(\"enter your salary \"))\n",
        "if salary > 50000.45:\n",
        "  print(\"buy a BMW\")\n",
        "print(\"mar jawoo \")"
      ],
      "metadata": {
        "colab": {
          "base_uri": "https://localhost:8080/"
        },
        "id": "oqGWdGg_qS9s",
        "outputId": "ba48703c-4580-4233-e357-682e4910e1ff"
      },
      "execution_count": null,
      "outputs": [
        {
          "output_type": "stream",
          "name": "stdout",
          "text": [
            "enter your salary 600000.00\n",
            "buy a BMW\n",
            "mar jawoo \n"
          ]
        }
      ]
    },
    {
      "cell_type": "code",
      "source": [
        "salary=567.435\n",
        "if salary < 4564.78:\n",
        "  print(\"buy a bag\")"
      ],
      "metadata": {
        "colab": {
          "base_uri": "https://localhost:8080/"
        },
        "id": "KJs1MuR2sLbl",
        "outputId": "e8a65b41-fbdc-41f6-8567-7f63ee575869"
      },
      "execution_count": null,
      "outputs": [
        {
          "output_type": "stream",
          "name": "stdout",
          "text": [
            "buy a bag\n"
          ]
        }
      ]
    },
    {
      "cell_type": "markdown",
      "source": [
        "# IF_ELSE STATEMENT\n",
        "\n",
        "If we want more then one condition we use this. if the first condition is not satistfy then 2nd condtion will print.\\\n"
      ],
      "metadata": {
        "id": "hlie8actiCF5"
      }
    },
    {
      "cell_type": "code",
      "execution_count": null,
      "metadata": {
        "id": "RsBXykJo_5ai",
        "colab": {
          "base_uri": "https://localhost:8080/"
        },
        "outputId": "f8b19886-d367-44cd-e323-db831f11cc46"
      },
      "outputs": [
        {
          "output_type": "stream",
          "name": "stdout",
          "text": [
            "enter your age: 24\n",
            "you should get marry! \n"
          ]
        }
      ],
      "source": [
        "age=int(input(\"enter your age: \"))\n",
        "if age>23:\n",
        "  print(\"you should get marry! \")\n",
        "else:\n",
        "  print(\"focus on your career!\")\n",
        "\n"
      ]
    },
    {
      "cell_type": "markdown",
      "source": [
        "# IF_ELIF_ELSE STATEMENT\n",
        "\n",
        "if we have more than more condition.\n",
        "\n",
        "as the conditions satisfy , the output will come out"
      ],
      "metadata": {
        "id": "28AdNkNAicsz"
      }
    },
    {
      "cell_type": "code",
      "source": [
        "age=int(input(\"enter your age: \"))\n",
        "if age>25:\n",
        "        print(\"must be a jobian\")\n",
        "elif age > 30:\n",
        "        print(\"married \")\n",
        "else:\n",
        "        print (\"lofarrrrrrrrrrrr! \")"
      ],
      "metadata": {
        "colab": {
          "base_uri": "https://localhost:8080/"
        },
        "id": "0qZ0Y_h3jc3_",
        "outputId": "85e86dee-3edb-40f4-f14a-133cce984a37"
      },
      "execution_count": null,
      "outputs": [
        {
          "output_type": "stream",
          "name": "stdout",
          "text": [
            "enter your age: 20\n",
            "lofarrrrrrrrrrrr! \n"
          ]
        }
      ]
    },
    {
      "cell_type": "markdown",
      "source": [
        "# NESTED_IF\n",
        "\n",
        "\n",
        "\n",
        "\n",
        "*   if we have two if statements, outer and inner statement.\n",
        "if the outer statement is true then it will print the inner statement.\n",
        "\n",
        "*   Lif the first if statement is not satisfy then else statement is print.\n",
        "\n",
        "\n",
        "*   remember here is also two else statements. inner and outer else statement.\n",
        "*   List item\n",
        "\n",
        "\n",
        "\n"
      ],
      "metadata": {
        "id": "5K3M-3EgjbNx"
      }
    },
    {
      "cell_type": "code",
      "source": [
        "salary= 50000\n",
        "married='true'\n",
        "if (salary < 5000):\n",
        "  if (married =='false'):\n",
        "    print(\"you are lucky\")\n",
        "print(\"badnaseeb\")"
      ],
      "metadata": {
        "colab": {
          "base_uri": "https://localhost:8080/"
        },
        "id": "TOf_HUu7jnjQ",
        "outputId": "d674f68f-40cc-4d7c-caff-8f4dc6d9e215"
      },
      "execution_count": null,
      "outputs": [
        {
          "output_type": "stream",
          "name": "stdout",
          "text": [
            "badnaseeb\n"
          ]
        }
      ]
    },
    {
      "cell_type": "code",
      "source": [],
      "metadata": {
        "id": "T9mZEizNKMI9"
      },
      "execution_count": null,
      "outputs": []
    },
    {
      "cell_type": "code",
      "source": [
        "salary= 50000\n",
        "married='true'\n",
        "if (salary < 5000):\n",
        "  if (married =='true'):\n",
        "    print(\"you are lucky\")\n",
        "print(\"badnaseeb\")"
      ],
      "metadata": {
        "colab": {
          "base_uri": "https://localhost:8080/"
        },
        "outputId": "1e80f2a3-c7ad-4fd3-fa74-034c13f6cc17",
        "id": "Krocb-fKKcR5"
      },
      "execution_count": null,
      "outputs": [
        {
          "output_type": "stream",
          "name": "stdout",
          "text": [
            "badnaseeb\n"
          ]
        }
      ]
    },
    {
      "cell_type": "code",
      "source": [],
      "metadata": {
        "id": "yWGxRZDMKf3S"
      },
      "execution_count": null,
      "outputs": []
    },
    {
      "cell_type": "code",
      "source": [
        "salary= 50000\n",
        "married='true'\n",
        "if (salary > 5000):\n",
        "  if (married =='false'):\n",
        "    print(\"you are lucky\")\n",
        "print(\"badnaseeb\")"
      ],
      "metadata": {
        "colab": {
          "base_uri": "https://localhost:8080/"
        },
        "outputId": "0df413a1-4fca-4eec-c9e4-c3edded9d67f",
        "id": "UYwcvbXTKhE2"
      },
      "execution_count": null,
      "outputs": [
        {
          "output_type": "stream",
          "name": "stdout",
          "text": [
            "badnaseeb\n"
          ]
        }
      ]
    },
    {
      "cell_type": "code",
      "source": [],
      "metadata": {
        "id": "-N15zEhqKjCw"
      },
      "execution_count": null,
      "outputs": []
    },
    {
      "cell_type": "code",
      "source": [
        "salary= 50000\n",
        "married='true'\n",
        "if (salary > 5000):\n",
        "  if (married =='true'):\n",
        "    print(\"you are lucky\")\n",
        "print(\"badnaseeb\")"
      ],
      "metadata": {
        "colab": {
          "base_uri": "https://localhost:8080/"
        },
        "outputId": "ab1306ce-7ab3-48d7-9d23-d8c72bcc7423",
        "id": "8rp_2gFnKj4o"
      },
      "execution_count": null,
      "outputs": [
        {
          "output_type": "stream",
          "name": "stdout",
          "text": [
            "you are lucky\n",
            "badnaseeb\n"
          ]
        }
      ]
    },
    {
      "cell_type": "code",
      "source": [],
      "metadata": {
        "id": "xyIJw0RaKnYM"
      },
      "execution_count": null,
      "outputs": []
    }
  ]
}