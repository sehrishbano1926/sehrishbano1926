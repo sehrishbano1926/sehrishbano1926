{
  "cells": [
    {
      "cell_type": "markdown",
      "metadata": {
        "id": "view-in-github",
        "colab_type": "text"
      },
      "source": [
        "<a href=\"https://colab.research.google.com/github/sehrishbano1926/sehrishbano1926/blob/main/Copy_of_Exercises_Part_2.ipynb\" target=\"_parent\"><img src=\"https://colab.research.google.com/assets/colab-badge.svg\" alt=\"Open In Colab\"/></a>"
      ]
    },
    {
      "cell_type": "markdown",
      "id": "40a2fbd7",
      "metadata": {
        "id": "40a2fbd7"
      },
      "source": [
        "# Dictionary manipulation exercises\n",
        "\n",
        "a. Create a dictionary with key-value pairs and try these tasks:"
      ]
    },
    {
      "cell_type": "markdown",
      "id": "313a615b",
      "metadata": {
        "id": "313a615b"
      },
      "source": [
        "i. Retrieve values by their keys.\n",
        "\n",
        "Hint: Use the key within square brackets or the get() method."
      ]
    },
    {
      "cell_type": "markdown",
      "source": [
        "**The question is asking you to create a dictionary in Python and then retrieve the values associated with specific keys using two different methods: square brackets and the get() method. Here's a step-by-step example to clarify:**"
      ],
      "metadata": {
        "id": "lTE9N4PJX9hl"
      },
      "id": "lTE9N4PJX9hl"
    },
    {
      "cell_type": "code",
      "execution_count": null,
      "id": "da4e1429",
      "metadata": {
        "id": "da4e1429",
        "outputId": "2c0980a8-f2d4-47f9-c0f2-6020d84eea1b",
        "colab": {
          "base_uri": "https://localhost:8080/"
        }
      },
      "outputs": [
        {
          "output_type": "stream",
          "name": "stdout",
          "text": [
            "Sehrish bano\n",
            "20\n",
            "islamabad\n"
          ]
        }
      ],
      "source": [
        "from typing import AsyncGenerator\n",
        "my_dict={\n",
        "    'name': 'Sehrish bano',\n",
        "    'age': 20,\n",
        "    'city': 'islamabad'\n",
        "}\n",
        "\n",
        "#Retrieve the values by using square brackets\n",
        "\n",
        "name=my_dict['name']\n",
        "age=my_dict['age']\n",
        "city=my_dict['city']\n",
        "\n",
        "print(name)\n",
        "print(age)\n",
        "print(city)"
      ]
    },
    {
      "cell_type": "markdown",
      "source": [
        "The **get() method** is another way to retrieve values from a dictionary. It is useful because it allows you to specify a default value if the key does not exist in the dictionary."
      ],
      "metadata": {
        "id": "vWMnV1G6ZiXQ"
      },
      "id": "vWMnV1G6ZiXQ"
    },
    {
      "cell_type": "code",
      "source": [
        "#Retrieve values by keys using the get() method\n",
        "name=my_dict.get('name')\n",
        "age=my_dict.get('age')\n",
        "city=my_dict.get('city')\n",
        "country=my_dict.get('country', 'pakistan')\n",
        "\n",
        "print(name)\n",
        "print(age)\n",
        "print(city)\n",
        "print(country)"
      ],
      "metadata": {
        "id": "fx3qt_QJZUtx",
        "outputId": "fa3e163b-f5cf-4328-deb3-9b7a2bdfe12d",
        "colab": {
          "base_uri": "https://localhost:8080/"
        }
      },
      "id": "fx3qt_QJZUtx",
      "execution_count": null,
      "outputs": [
        {
          "output_type": "stream",
          "name": "stdout",
          "text": [
            "Sehrish bano\n",
            "20\n",
            "islamabad\n",
            "pakistan\n"
          ]
        }
      ]
    },
    {
      "cell_type": "markdown",
      "id": "0414a2c6",
      "metadata": {
        "id": "0414a2c6"
      },
      "source": [
        "ii. Add new entries to the dictionary.\n",
        "\n",
        "Hint: Assign a value to a new key using the assignment operator."
      ]
    },
    {
      "cell_type": "markdown",
      "source": [
        "**To add new entries to a dictionary in Python, you can use the assignment operator to assign a value to a new key. Here's an example using the dictionary we created earlier:**"
      ],
      "metadata": {
        "id": "bRJ95ZzabKTl"
      },
      "id": "bRJ95ZzabKTl"
    },
    {
      "cell_type": "code",
      "source": [
        "my_dict['profession']='Data Scientist'\n",
        "my_dict['hobbies']=['reading', 'hiking']\n",
        "print(my_dict)"
      ],
      "metadata": {
        "id": "HH9xDcSraNRU",
        "outputId": "c78a5a1e-ecc7-4833-ffbd-4d60bffeeef4",
        "colab": {
          "base_uri": "https://localhost:8080/"
        }
      },
      "id": "HH9xDcSraNRU",
      "execution_count": null,
      "outputs": [
        {
          "output_type": "stream",
          "name": "stdout",
          "text": [
            "{'name': 'Sehrish bano', 'age': 20, 'city': 'islamabad', 'profession': 'Data Scientist', 'hobbies': ['reading', 'hiking']}\n"
          ]
        }
      ]
    },
    {
      "cell_type": "markdown",
      "id": "fd34037f",
      "metadata": {
        "id": "fd34037f"
      },
      "source": [
        "iii. Update a value for an existing key.\n",
        "\n",
        "Hint: Assign a new value to the existing key.\n"
      ]
    },
    {
      "cell_type": "code",
      "execution_count": null,
      "id": "91f77cb4",
      "metadata": {
        "id": "91f77cb4",
        "outputId": "9428a635-203c-48b2-cd22-29e1de85a0d6",
        "colab": {
          "base_uri": "https://localhost:8080/"
        }
      },
      "outputs": [
        {
          "output_type": "stream",
          "name": "stdout",
          "text": [
            "{'name': 'Sehrish bano', 'age': 60, 'city': 'islamabad', 'profession': 'Data Scientist', 'hobbies': ['reading', 'hiking']}\n"
          ]
        }
      ],
      "source": [
        "my_dict['age']=60\n",
        "print(my_dict)"
      ]
    },
    {
      "cell_type": "markdown",
      "id": "088b17b4",
      "metadata": {
        "id": "088b17b4"
      },
      "source": [
        "iv. Remove an entry from the dictionary.\n",
        "\n",
        "Hint: Use the pop() or del keyword.\n"
      ]
    },
    {
      "cell_type": "code",
      "execution_count": null,
      "id": "37755e82",
      "metadata": {
        "id": "37755e82",
        "outputId": "23363f2a-c06e-4ab4-ba06-2410ba7b0da9",
        "colab": {
          "base_uri": "https://localhost:8080/"
        }
      },
      "outputs": [
        {
          "output_type": "stream",
          "name": "stdout",
          "text": [
            "islamabad\n",
            "{'name': 'Sehrish bano', 'age': 20}\n"
          ]
        }
      ],
      "source": [
        "removed_city= my_dict.pop('city')\n",
        "print(removed_city)\n",
        "print(my_dict)\n"
      ]
    },
    {
      "cell_type": "code",
      "source": [
        "del my_dict['city']\n",
        "print(my_dict)"
      ],
      "metadata": {
        "id": "1gp2gboJgwhI",
        "outputId": "70aee608-9039-43bc-b3e2-7d37101b6a71",
        "colab": {
          "base_uri": "https://localhost:8080/"
        }
      },
      "id": "1gp2gboJgwhI",
      "execution_count": null,
      "outputs": [
        {
          "output_type": "stream",
          "name": "stdout",
          "text": [
            "{'name': 'Sehrish bano', 'age': 20}\n"
          ]
        }
      ]
    },
    {
      "cell_type": "markdown",
      "id": "620b559b",
      "metadata": {
        "id": "620b559b"
      },
      "source": [
        "\n",
        "# List manipulation exercises\n",
        "\n",
        "a. Make a list containing various data types (e.g., strings, integers, floats) and work on these tasks:\n",
        "\n",
        "i. Access elements via their indices.\n",
        "\n",
        "Hint: Use the index inside square brackets.\n"
      ]
    },
    {
      "cell_type": "code",
      "execution_count": null,
      "id": "a35388a9",
      "metadata": {
        "id": "a35388a9",
        "outputId": "acbdc484-80f5-44d6-edd5-9897af2cb4b5",
        "colab": {
          "base_uri": "https://localhost:8080/"
        }
      },
      "outputs": [
        {
          "output_type": "stream",
          "name": "stdout",
          "text": [
            "sehrish bano\n",
            "30\n",
            "34.6\n"
          ]
        }
      ],
      "source": [
        "list_a=['sehrish bano', 30, 34.6]\n",
        "element_a=list_a[0]\n",
        "element_b=list_a[1]\n",
        "element_c=list_a[2]\n",
        "print(element_a)\n",
        "print(element_b)\n",
        "print(element_c)"
      ]
    },
    {
      "cell_type": "markdown",
      "id": "43275964",
      "metadata": {
        "id": "43275964"
      },
      "source": [
        "ii. Obtain a sub-list by slicing the list.\n",
        "\n",
        "Hint: Use the colon syntax start:end.\n"
      ]
    },
    {
      "cell_type": "code",
      "execution_count": null,
      "id": "a2e440be",
      "metadata": {
        "id": "a2e440be",
        "outputId": "9b537e23-45c8-4270-dafe-e9b71ec2e259",
        "colab": {
          "base_uri": "https://localhost:8080/"
        }
      },
      "outputs": [
        {
          "output_type": "stream",
          "name": "stdout",
          "text": [
            "[5, 7, 9, 0, 'car']\n"
          ]
        }
      ],
      "source": [
        "list_b=[3,4,5,7,9,0,'car','girl',45]\n",
        "slice_1=list_b[2:7]\n",
        "print(slice_1)"
      ]
    },
    {
      "cell_type": "code",
      "source": [
        "slice_2=list_b[0:5]\n",
        "print(slice_2)"
      ],
      "metadata": {
        "id": "3md1DvpQkPO1",
        "outputId": "b8ea3e6a-c4c7-4396-fc6b-bdf582779b10",
        "colab": {
          "base_uri": "https://localhost:8080/"
        }
      },
      "id": "3md1DvpQkPO1",
      "execution_count": null,
      "outputs": [
        {
          "output_type": "stream",
          "name": "stdout",
          "text": [
            "[3, 4, 5, 7, 9]\n"
          ]
        }
      ]
    },
    {
      "cell_type": "markdown",
      "id": "c4941d6b",
      "metadata": {
        "id": "c4941d6b"
      },
      "source": [
        "iii. Modify elements at specified positions.\n",
        "\n",
        "Hint: Assign a new value to an element using its index.\n"
      ]
    },
    {
      "cell_type": "code",
      "execution_count": null,
      "id": "7011e1f8",
      "metadata": {
        "id": "7011e1f8",
        "outputId": "36a99e78-e38c-4377-f4fd-ae064c8406b6",
        "colab": {
          "base_uri": "https://localhost:8080/"
        }
      },
      "outputs": [
        {
          "output_type": "stream",
          "name": "stdout",
          "text": [
            "[3, 4, 5, 7, 9, 0, 'sehrish', 'bano', 'girl', 45, 'bano']\n"
          ]
        }
      ],
      "source": [
        "list_b[6]='sehrish'\n",
        "print(list_b)\n"
      ]
    },
    {
      "cell_type": "markdown",
      "id": "451e803b",
      "metadata": {
        "id": "451e803b"
      },
      "source": [
        "iv. Add new elements to the list.\n",
        "\n",
        "Hint: Use the append() method.\n"
      ]
    },
    {
      "cell_type": "code",
      "execution_count": null,
      "id": "6f71cdec",
      "metadata": {
        "id": "6f71cdec"
      },
      "outputs": [],
      "source": [
        "list_b.append('bano')"
      ]
    },
    {
      "cell_type": "code",
      "source": [
        "list_b"
      ],
      "metadata": {
        "id": "EWCKc22Olxvm",
        "outputId": "caf9a67a-9563-4f90-de94-cd7374cc94f2",
        "colab": {
          "base_uri": "https://localhost:8080/"
        }
      },
      "id": "EWCKc22Olxvm",
      "execution_count": null,
      "outputs": [
        {
          "output_type": "execute_result",
          "data": {
            "text/plain": [
              "[3, 4, 5, 7, 9, 0, 'sehrish', 'girl', 45, 'bano']"
            ]
          },
          "metadata": {},
          "execution_count": 51
        }
      ]
    },
    {
      "cell_type": "markdown",
      "id": "c3a13f31",
      "metadata": {
        "id": "c3a13f31"
      },
      "source": [
        "v. Remove and return elements from the list.\n",
        "\n",
        "Hint: Use the pop() method with the index of the element.\n"
      ]
    },
    {
      "cell_type": "markdown",
      "source": [
        "**Use pop(index):** The pop() method removes and returns the element at the specified index."
      ],
      "metadata": {
        "id": "zyRzkEwTnM-Z"
      },
      "id": "zyRzkEwTnM-Z"
    },
    {
      "cell_type": "code",
      "execution_count": null,
      "id": "1484b8e2",
      "metadata": {
        "id": "1484b8e2"
      },
      "outputs": [],
      "source": [
        "removed_element=list_b.pop(3)"
      ]
    },
    {
      "cell_type": "code",
      "source": [
        "removed_element"
      ],
      "metadata": {
        "id": "3pJbhdtcnA5l",
        "outputId": "0d7c20ad-7aef-4191-fef9-c6e4c14266d5",
        "colab": {
          "base_uri": "https://localhost:8080/"
        }
      },
      "id": "3pJbhdtcnA5l",
      "execution_count": null,
      "outputs": [
        {
          "output_type": "execute_result",
          "data": {
            "text/plain": [
              "7"
            ]
          },
          "metadata": {},
          "execution_count": 53
        }
      ]
    },
    {
      "cell_type": "code",
      "source": [
        "list_b"
      ],
      "metadata": {
        "id": "lOGje7w7nEM7",
        "outputId": "e49f3aa8-0779-486f-8404-0b0cba975172",
        "colab": {
          "base_uri": "https://localhost:8080/"
        }
      },
      "id": "lOGje7w7nEM7",
      "execution_count": null,
      "outputs": [
        {
          "output_type": "execute_result",
          "data": {
            "text/plain": [
              "[3, 4, 5, 9, 0, 'sehrish', 'girl', 45, 'bano']"
            ]
          },
          "metadata": {},
          "execution_count": 54
        }
      ]
    },
    {
      "cell_type": "markdown",
      "id": "da243384",
      "metadata": {
        "id": "da243384"
      },
      "source": [
        "vi. Delete an element at a given position.\n",
        "\n",
        "Hint: Use the del keyword with the index of the element.\n"
      ]
    },
    {
      "cell_type": "code",
      "execution_count": null,
      "id": "0b8852ab",
      "metadata": {
        "id": "0b8852ab",
        "outputId": "e3137692-35b3-46fd-956b-51f8dd290b5f",
        "colab": {
          "base_uri": "https://localhost:8080/"
        }
      },
      "outputs": [
        {
          "output_type": "stream",
          "name": "stdout",
          "text": [
            "[3, 4, 5, 9, 0, 'sehrish', 45, 'bano']\n"
          ]
        }
      ],
      "source": [
        "del list_b[6]\n",
        "print(list_b)\n"
      ]
    },
    {
      "cell_type": "markdown",
      "id": "3bef7914",
      "metadata": {
        "id": "3bef7914"
      },
      "source": [
        "*vii*. Sort the list in ascending and descending order.\n",
        "\n",
        "Hint: Use the sorted() function or sort() method with the reverse parameter.\n"
      ]
    },
    {
      "cell_type": "code",
      "execution_count": null,
      "id": "8d606b02",
      "metadata": {
        "id": "8d606b02",
        "outputId": "440c717f-df51-4f17-8d87-38b0101a6c4c",
        "colab": {
          "base_uri": "https://localhost:8080/"
        }
      },
      "outputs": [
        {
          "output_type": "execute_result",
          "data": {
            "text/plain": [
              "[0, 1, 2, 3, 3, 5, 6, 6, 8, 9]"
            ]
          },
          "metadata": {},
          "execution_count": 58
        }
      ],
      "source": [
        "list_c=[5,3,2,6,0,9,8,1,3,6,]\n",
        "list_c.sort()\n",
        "list_c"
      ]
    },
    {
      "cell_type": "code",
      "source": [
        "list_c.sort(reverse=True)\n",
        "list_c"
      ],
      "metadata": {
        "id": "iBblRL_MpHhd",
        "outputId": "a656b1b7-fd09-45c6-ae3f-47175f1c86bb",
        "colab": {
          "base_uri": "https://localhost:8080/"
        }
      },
      "id": "iBblRL_MpHhd",
      "execution_count": null,
      "outputs": [
        {
          "output_type": "execute_result",
          "data": {
            "text/plain": [
              "[9, 8, 6, 6, 5, 3, 3, 2, 1, 0]"
            ]
          },
          "metadata": {},
          "execution_count": 60
        }
      ]
    },
    {
      "cell_type": "markdown",
      "id": "78792ef5",
      "metadata": {
        "id": "78792ef5"
      },
      "source": [
        "viii. Reverse the list.\n",
        "\n",
        "Hint: Use the reverse() method or slicing with [::-1].\n"
      ]
    },
    {
      "cell_type": "code",
      "execution_count": null,
      "id": "8ec07305",
      "metadata": {
        "id": "8ec07305",
        "outputId": "45d27556-4b06-4ba4-f6fd-e13c55001108",
        "colab": {
          "base_uri": "https://localhost:8080/"
        }
      },
      "outputs": [
        {
          "output_type": "execute_result",
          "data": {
            "text/plain": [
              "[9, 8, 6, 6, 5, 3, 3, 2, 1, 0]"
            ]
          },
          "metadata": {},
          "execution_count": 70
        }
      ],
      "source": [
        "#reverse method\n",
        "list_c.reverse()\n",
        "\n",
        "list_c\n"
      ]
    },
    {
      "cell_type": "code",
      "source": [
        "#slicing\n",
        "reverse_list=list_c[::-1]\n",
        "list_c"
      ],
      "metadata": {
        "id": "CX2rOO1lpyZ9",
        "outputId": "68ca8101-14ed-4b6b-e6cd-dfe2756638cc",
        "colab": {
          "base_uri": "https://localhost:8080/"
        }
      },
      "id": "CX2rOO1lpyZ9",
      "execution_count": null,
      "outputs": [
        {
          "output_type": "execute_result",
          "data": {
            "text/plain": [
              "[9, 8, 6, 6, 5, 3, 3, 2, 1, 0]"
            ]
          },
          "metadata": {},
          "execution_count": 78
        }
      ]
    },
    {
      "cell_type": "code",
      "source": [
        "reverse_list"
      ],
      "metadata": {
        "id": "OSfbv4rvq3xW",
        "outputId": "02d1bcee-26cb-4bd9-f590-469e44179ed1",
        "colab": {
          "base_uri": "https://localhost:8080/"
        }
      },
      "id": "OSfbv4rvq3xW",
      "execution_count": null,
      "outputs": [
        {
          "output_type": "execute_result",
          "data": {
            "text/plain": [
              "[0, 1, 2, 3, 3, 5, 6, 6, 8, 9]"
            ]
          },
          "metadata": {},
          "execution_count": 79
        }
      ]
    },
    {
      "cell_type": "code",
      "source": [
        "list_c"
      ],
      "metadata": {
        "id": "TsEhYUnMq6x_",
        "outputId": "908e3d28-8a5e-4d5a-cb32-71f76c827a10",
        "colab": {
          "base_uri": "https://localhost:8080/"
        }
      },
      "id": "TsEhYUnMq6x_",
      "execution_count": null,
      "outputs": [
        {
          "output_type": "execute_result",
          "data": {
            "text/plain": [
              "[9, 8, 6, 6, 5, 3, 3, 2, 1, 0]"
            ]
          },
          "metadata": {},
          "execution_count": 80
        }
      ]
    },
    {
      "cell_type": "markdown",
      "id": "b1212b40",
      "metadata": {
        "id": "b1212b40"
      },
      "source": [
        "ix. Insert an element at a specified position.\n",
        "\n",
        "Hint: Use the insert() method with the index and the element as arguments.\n"
      ]
    },
    {
      "cell_type": "code",
      "execution_count": null,
      "id": "bfd15baf",
      "metadata": {
        "id": "bfd15baf",
        "outputId": "b2c6aa03-f18a-4392-b250-da3479cb639d",
        "colab": {
          "base_uri": "https://localhost:8080/"
        }
      },
      "outputs": [
        {
          "output_type": "execute_result",
          "data": {
            "text/plain": [
              "['motee', 9, 8, 6, 6, 5, 3, 3, 2, 1, 0]"
            ]
          },
          "metadata": {},
          "execution_count": 81
        }
      ],
      "source": [
        "list_c.insert(0, 'motee')\n",
        "list_c"
      ]
    },
    {
      "cell_type": "markdown",
      "id": "f1d39684",
      "metadata": {
        "id": "f1d39684"
      },
      "source": [
        "\n",
        "# String comparison exercise\n",
        "\n",
        "a. Perform a case-insensitive comparison of two strings and print whether they are equal.\n",
        "\n",
        "Hint: Use the lower() method or upper() method before comparing the strings.\n"
      ]
    },
    {
      "cell_type": "markdown",
      "source": [
        "**lower() Method**:\n",
        "\n",
        "The lower() method converts all uppercase characters in a string to lowercase. It does not modify the original string but returns a new string with all characters in lowercase.\n",
        "\n",
        "\n",
        "The **upper() method** converts all lowercase characters in a string to uppercase. Like lower(), it does not modify the original string but returns a new string with all characters in uppercase."
      ],
      "metadata": {
        "id": "ld3qrbukv9rN"
      },
      "id": "ld3qrbukv9rN"
    },
    {
      "cell_type": "code",
      "execution_count": null,
      "id": "dee1aa92",
      "metadata": {
        "id": "dee1aa92",
        "outputId": "4c69d253-b46d-45c6-f9a8-92ba5aa30a5e",
        "colab": {
          "base_uri": "https://localhost:8080/"
        }
      },
      "outputs": [
        {
          "output_type": "stream",
          "name": "stdout",
          "text": [
            "the strings are not equal\n"
          ]
        }
      ],
      "source": [
        "string_a='sehrish bano'\n",
        "string_b='motoo and motii'\n",
        "#Using the lower() method:\n",
        "\n",
        "if string_a.lower()==string_b.lower():\n",
        "  print('the string are equal')\n",
        "\n",
        "else:\n",
        "  print('the strings are not equal')"
      ]
    },
    {
      "cell_type": "code",
      "source": [
        "string1='tom and jerry'\n",
        "string2='tom and jerry'\n",
        "\n",
        "if string1.lower()==string2.lower():\n",
        "  print('strings are equal')\n",
        "\n",
        "else:\n",
        "  print('not equal strings')"
      ],
      "metadata": {
        "id": "oGnwDffvvTvE",
        "outputId": "6d152848-ecae-421b-a933-87be6c5bb6ca",
        "colab": {
          "base_uri": "https://localhost:8080/"
        }
      },
      "id": "oGnwDffvvTvE",
      "execution_count": null,
      "outputs": [
        {
          "output_type": "stream",
          "name": "stdout",
          "text": [
            "strings are equal\n"
          ]
        }
      ]
    },
    {
      "cell_type": "code",
      "source": [
        "if string1.upper()==string2.upper():\n",
        "  print('strings are equal')\n",
        "\n",
        "else:\n",
        "  print('not equal strings')"
      ],
      "metadata": {
        "id": "7AjcxjGqvrvp",
        "outputId": "383f351b-1c38-4216-a831-95f843738ee4",
        "colab": {
          "base_uri": "https://localhost:8080/"
        }
      },
      "id": "7AjcxjGqvrvp",
      "execution_count": null,
      "outputs": [
        {
          "output_type": "stream",
          "name": "stdout",
          "text": [
            "strings are equal\n"
          ]
        }
      ]
    },
    {
      "cell_type": "code",
      "source": [
        "if string_a.upper()==string_b.upper():\n",
        "  print('the string are equal')\n",
        "\n",
        "else:\n",
        "  print('the strings are not equal')"
      ],
      "metadata": {
        "id": "VuJlBg5Hv4hq",
        "outputId": "2f1d6f1e-827d-4604-c4e3-11709aab858c",
        "colab": {
          "base_uri": "https://localhost:8080/"
        }
      },
      "id": "VuJlBg5Hv4hq",
      "execution_count": null,
      "outputs": [
        {
          "output_type": "stream",
          "name": "stdout",
          "text": [
            "the strings are not equal\n"
          ]
        }
      ]
    },
    {
      "cell_type": "code",
      "source": [
        "string1='tom and jerry'\n",
        "string2='TOM AND JERRY'\n",
        "\n",
        "print(string1.upper())\n",
        "print(string2.lower())"
      ],
      "metadata": {
        "id": "Z1BswVTCwVzK",
        "outputId": "8631fd58-da50-4b87-e64f-7651f4a3aebd",
        "colab": {
          "base_uri": "https://localhost:8080/"
        }
      },
      "id": "Z1BswVTCwVzK",
      "execution_count": null,
      "outputs": [
        {
          "output_type": "stream",
          "name": "stdout",
          "text": [
            "TOM AND JERRY\n",
            "tom and jerry\n"
          ]
        }
      ]
    },
    {
      "cell_type": "code",
      "source": [
        "if string2.upper()==string2.upper():\n",
        "  print('the string are equal')\n",
        "\n",
        "else:\n",
        "  print('the strings are not equal')"
      ],
      "metadata": {
        "id": "oey1GWchwzTg",
        "outputId": "ee8063f6-fd72-4264-90f4-7296d2abb844",
        "colab": {
          "base_uri": "https://localhost:8080/"
        }
      },
      "id": "oey1GWchwzTg",
      "execution_count": null,
      "outputs": [
        {
          "output_type": "stream",
          "name": "stdout",
          "text": [
            "the string are equal\n"
          ]
        }
      ]
    },
    {
      "cell_type": "code",
      "source": [
        "if string1.upper()==string1.upper():\n",
        "  print('the string are equal')\n",
        "\n",
        "else:\n",
        "  print('the strings are not equal')"
      ],
      "metadata": {
        "id": "tZd5_FAVw8Dm",
        "outputId": "f38c5ed2-f8a4-40e8-bc38-9261c6944ce6",
        "colab": {
          "base_uri": "https://localhost:8080/"
        }
      },
      "id": "tZd5_FAVw8Dm",
      "execution_count": null,
      "outputs": [
        {
          "output_type": "stream",
          "name": "stdout",
          "text": [
            "the string are equal\n"
          ]
        }
      ]
    },
    {
      "cell_type": "code",
      "source": [
        "if string1.upper()==string1.lower():\n",
        "  print('the string are equal')\n",
        "\n",
        "else:\n",
        "  print('the strings are not equal')"
      ],
      "metadata": {
        "id": "LQiajBStxqY-",
        "outputId": "3bd5716d-ad47-4112-b49a-f9bb1486dc8e",
        "colab": {
          "base_uri": "https://localhost:8080/"
        }
      },
      "id": "LQiajBStxqY-",
      "execution_count": null,
      "outputs": [
        {
          "output_type": "stream",
          "name": "stdout",
          "text": [
            "the strings are not equal\n"
          ]
        }
      ]
    },
    {
      "cell_type": "markdown",
      "id": "e6b1fc6f",
      "metadata": {
        "id": "e6b1fc6f"
      },
      "source": [
        "# String manipulation exercises\n",
        "\n",
        "a. Start with a sentence string and complete these tasks:\n",
        "\n",
        "i. Add another sentence to the existing one.\n",
        "\n",
        "Hint: Use the + operator or the join() method.\n"
      ]
    },
    {
      "cell_type": "code",
      "execution_count": null,
      "id": "21281b05",
      "metadata": {
        "id": "21281b05",
        "outputId": "a0730425-cf08-43ad-b692-3ba43c090b38",
        "colab": {
          "base_uri": "https://localhost:8080/"
        }
      },
      "outputs": [
        {
          "output_type": "stream",
          "name": "stdout",
          "text": [
            "i am sehrish bano i am data scientist\n"
          ]
        }
      ],
      "source": [
        "sentence1='i am sehrish bano'\n",
        "sentence2='i am data scientist'\n",
        "print(sentence1 + \" \"+  sentence2 )"
      ]
    },
    {
      "cell_type": "code",
      "source": [
        "print(\" \".join([sentence1, sentence2]))"
      ],
      "metadata": {
        "id": "8XB2c32EzCH8",
        "outputId": "4408d314-4e2c-4a1d-d7c7-9f0ebafe60c4",
        "colab": {
          "base_uri": "https://localhost:8080/"
        }
      },
      "id": "8XB2c32EzCH8",
      "execution_count": null,
      "outputs": [
        {
          "output_type": "stream",
          "name": "stdout",
          "text": [
            "i am sehrish bano i am data scientist\n"
          ]
        }
      ]
    },
    {
      "cell_type": "markdown",
      "id": "627f7431",
      "metadata": {
        "id": "627f7431"
      },
      "source": [
        "ii. Display the string in upper case, lower case, and title case.\n",
        "\n",
        "Hint: Use the upper(), lower(), and title() methods.\n"
      ]
    },
    {
      "cell_type": "code",
      "execution_count": null,
      "id": "3e489377",
      "metadata": {
        "id": "3e489377",
        "outputId": "7d1ae5e6-1c67-4bcc-d4fe-d2e0594348ac",
        "colab": {
          "base_uri": "https://localhost:8080/"
        }
      },
      "outputs": [
        {
          "output_type": "stream",
          "name": "stdout",
          "text": [
            "sehrish bano\n",
            "SEHRISH BANO\n",
            "Sehrish Bano\n",
            "Sehrish Bano\n"
          ]
        }
      ],
      "source": [
        "s1='SEHRISH BANO'\n",
        "s2='sehrish bano'\n",
        "print(s1.lower())\n",
        "print(s2.upper())\n",
        "print(s1.title())\n",
        "print(s2.title())"
      ]
    },
    {
      "cell_type": "markdown",
      "id": "5de061e0",
      "metadata": {
        "id": "5de061e0"
      },
      "source": [
        "iii. Verify if the string is in title case or upper case.\n",
        "\n",
        "Hint: Use the istitle() and isupper() methods.\n",
        "\n"
      ]
    },
    {
      "cell_type": "code",
      "execution_count": null,
      "id": "39d55a41",
      "metadata": {
        "id": "39d55a41",
        "outputId": "d4eaa9ae-c66b-4177-8c60-b9c9122fb2c9",
        "colab": {
          "base_uri": "https://localhost:8080/"
        }
      },
      "outputs": [
        {
          "output_type": "execute_result",
          "data": {
            "text/plain": [
              "False"
            ]
          },
          "metadata": {},
          "execution_count": 105
        }
      ],
      "source": [
        "s1.istitle()"
      ]
    },
    {
      "cell_type": "code",
      "source": [
        "s2.islower()"
      ],
      "metadata": {
        "id": "PTPPJ21j0T5H",
        "outputId": "92297052-985b-444b-fa9b-04a9c3a2e773",
        "colab": {
          "base_uri": "https://localhost:8080/"
        }
      },
      "id": "PTPPJ21j0T5H",
      "execution_count": null,
      "outputs": [
        {
          "output_type": "execute_result",
          "data": {
            "text/plain": [
              "True"
            ]
          },
          "metadata": {},
          "execution_count": 106
        }
      ]
    },
    {
      "cell_type": "markdown",
      "id": "82d33c9b",
      "metadata": {
        "id": "82d33c9b"
      },
      "source": [
        "iv. Locate the position of a word within the string.\n",
        "\n",
        "Hint: Use the find() or index() method.\n",
        "\n"
      ]
    },
    {
      "cell_type": "code",
      "execution_count": null,
      "id": "f12b16f2",
      "metadata": {
        "id": "f12b16f2",
        "outputId": "03493a63-a93a-411b-fa0f-f50066e0ff09",
        "colab": {
          "base_uri": "https://localhost:8080/"
        }
      },
      "outputs": [
        {
          "output_type": "execute_result",
          "data": {
            "text/plain": [
              "15"
            ]
          },
          "metadata": {},
          "execution_count": 109
        }
      ],
      "source": [
        "#use index method()\n",
        "word=' i do like dancing in the room lonely'\n",
        "word.index('in')"
      ]
    },
    {
      "cell_type": "code",
      "source": [
        "#use find method()\n",
        "word.find('room')"
      ],
      "metadata": {
        "id": "pXV-F4Qi1PGn",
        "outputId": "aff7a429-ef55-40d9-a068-1a1a9edc0320",
        "colab": {
          "base_uri": "https://localhost:8080/"
        }
      },
      "id": "pXV-F4Qi1PGn",
      "execution_count": null,
      "outputs": [
        {
          "output_type": "execute_result",
          "data": {
            "text/plain": [
              "26"
            ]
          },
          "metadata": {},
          "execution_count": 110
        }
      ]
    },
    {
      "cell_type": "markdown",
      "id": "f9d4c257",
      "metadata": {
        "id": "f9d4c257"
      },
      "source": [
        "v. Break the string into parts using a specific character.\n",
        "\n",
        "Hint: Use the split() method with the character as an argument."
      ]
    },
    {
      "cell_type": "code",
      "execution_count": null,
      "id": "b46bcd0f",
      "metadata": {
        "id": "b46bcd0f",
        "outputId": "faa0b883-dfde-4369-8654-250fa42a2d9e",
        "colab": {
          "base_uri": "https://localhost:8080/"
        }
      },
      "outputs": [
        {
          "output_type": "execute_result",
          "data": {
            "text/plain": [
              "['i', 'do', 'like', 'dancing', 'in', 'the', 'room', 'lonely']"
            ]
          },
          "metadata": {},
          "execution_count": 111
        }
      ],
      "source": [
        "word.split()"
      ]
    },
    {
      "cell_type": "code",
      "source": [],
      "metadata": {
        "id": "LJIvGsxi3K0_"
      },
      "id": "LJIvGsxi3K0_",
      "execution_count": null,
      "outputs": []
    }
  ],
  "metadata": {
    "kernelspec": {
      "display_name": "Python 3 (ipykernel)",
      "language": "python",
      "name": "python3"
    },
    "language_info": {
      "codemirror_mode": {
        "name": "ipython",
        "version": 3
      },
      "file_extension": ".py",
      "mimetype": "text/x-python",
      "name": "python",
      "nbconvert_exporter": "python",
      "pygments_lexer": "ipython3",
      "version": "3.10.9"
    },
    "colab": {
      "provenance": [],
      "include_colab_link": true
    }
  },
  "nbformat": 4,
  "nbformat_minor": 5
}